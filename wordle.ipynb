{
 "cells": [
  {
   "cell_type": "markdown",
   "metadata": {},
   "source": [
    "# Wordle solver\n",
    "\n",
    "Aswin van Woudenberg (https://www.aswinvanwoudenberg.com | https://github.com/afvanwoudenberg)\n",
    "\n",
    "## Importing libraries"
   ]
  },
  {
   "cell_type": "code",
   "execution_count": 1,
   "metadata": {
    "_cell_guid": "b1076dfc-b9ad-4769-8c92-a6c4dae69d19",
    "_uuid": "8f2839f25d086af736a60e9eeb907d3b93b6e0e5",
    "execution": {
     "iopub.execute_input": "2022-01-29T06:52:52.860218Z",
     "iopub.status.busy": "2022-01-29T06:52:52.859877Z",
     "iopub.status.idle": "2022-01-29T06:52:52.865286Z",
     "shell.execute_reply": "2022-01-29T06:52:52.864395Z",
     "shell.execute_reply.started": "2022-01-29T06:52:52.860183Z"
    }
   },
   "outputs": [],
   "source": [
    "import json\n",
    "\n",
    "import numpy as np\n",
    "import pandas as pd\n",
    "import ipywidgets as widgets\n",
    "\n",
    "from sklearn.preprocessing import LabelEncoder\n",
    "from sklearn.feature_selection import mutual_info_classif\n",
    "from warnings import simplefilter\n",
    "from collections import deque"
   ]
  },
  {
   "cell_type": "markdown",
   "metadata": {},
   "source": [
    "## Loading data"
   ]
  },
  {
   "cell_type": "code",
   "execution_count": 2,
   "metadata": {},
   "outputs": [],
   "source": [
    "answers_list = [\"cigar\",\"rebut\",\"sissy\",\"humph\",\"awake\",\"blush\",\"focal\",\"evade\",\"naval\",\"serve\",\"heath\",\"dwarf\",\"model\",\"karma\",\"stink\",\"grade\",\"quiet\",\"bench\",\"abate\",\"feign\",\"major\",\"death\",\"fresh\",\"crust\",\"stool\",\"colon\",\"abase\",\"marry\",\"react\",\"batty\",\"pride\",\"floss\",\"helix\",\"croak\",\"staff\",\"paper\",\"unfed\",\"whelp\",\"trawl\",\"outdo\",\"adobe\",\"crazy\",\"sower\",\"repay\",\"digit\",\"crate\",\"cluck\",\"spike\",\"mimic\",\"pound\",\"maxim\",\"linen\",\"unmet\",\"flesh\",\"booby\",\"forth\",\"first\",\"stand\",\"belly\",\"ivory\",\"seedy\",\"print\",\"yearn\",\"drain\",\"bribe\",\"stout\",\"panel\",\"crass\",\"flume\",\"offal\",\"agree\",\"error\",\"swirl\",\"argue\",\"bleed\",\"delta\",\"flick\",\"totem\",\"wooer\",\"front\",\"shrub\",\"parry\",\"biome\",\"lapel\",\"start\",\"greet\",\"goner\",\"golem\",\"lusty\",\"loopy\",\"round\",\"audit\",\"lying\",\"gamma\",\"labor\",\"islet\",\"civic\",\"forge\",\"corny\",\"moult\",\"basic\",\"salad\",\"agate\",\"spicy\",\"spray\",\"essay\",\"fjord\",\"spend\",\"kebab\",\"guild\",\"aback\",\"motor\",\"alone\",\"hatch\",\"hyper\",\"thumb\",\"dowry\",\"ought\",\"belch\",\"dutch\",\"pilot\",\"tweed\",\"comet\",\"jaunt\",\"enema\",\"steed\",\"abyss\",\"growl\",\"fling\",\"dozen\",\"boozy\",\"erode\",\"world\",\"gouge\",\"click\",\"briar\",\"great\",\"altar\",\"pulpy\",\"blurt\",\"coast\",\"duchy\",\"groin\",\"fixer\",\"group\",\"rogue\",\"badly\",\"smart\",\"pithy\",\"gaudy\",\"chill\",\"heron\",\"vodka\",\"finer\",\"surer\",\"radio\",\"rouge\",\"perch\",\"retch\",\"wrote\",\"clock\",\"tilde\",\"store\",\"prove\",\"bring\",\"solve\",\"cheat\",\"grime\",\"exult\",\"usher\",\"epoch\",\"triad\",\"break\",\"rhino\",\"viral\",\"conic\",\"masse\",\"sonic\",\"vital\",\"trace\",\"using\",\"peach\",\"champ\",\"baton\",\"brake\",\"pluck\",\"craze\",\"gripe\",\"weary\",\"picky\",\"acute\",\"ferry\",\"aside\",\"tapir\",\"troll\",\"unify\",\"rebus\",\"boost\",\"truss\",\"siege\",\"tiger\",\"banal\",\"slump\",\"crank\",\"gorge\",\"query\",\"drink\",\"favor\",\"abbey\",\"tangy\",\"panic\",\"solar\",\"shire\",\"proxy\",\"point\",\"robot\",\"prick\",\"wince\",\"crimp\",\"knoll\",\"sugar\",\"whack\",\"mount\",\"perky\",\"could\",\"wrung\",\"light\",\"those\",\"moist\",\"shard\",\"pleat\",\"aloft\",\"skill\",\"elder\",\"frame\",\"humor\",\"pause\",\"ulcer\",\"ultra\",\"robin\",\"cynic\",\"aroma\",\"caulk\",\"shake\",\"dodge\",\"swill\",\"tacit\",\"other\",\"thorn\",\"trove\",\"bloke\",\"vivid\",\"spill\",\"chant\",\"choke\",\"rupee\",\"nasty\",\"mourn\",\"ahead\",\"brine\",\"cloth\",\"hoard\",\"sweet\",\"month\",\"lapse\",\"watch\",\"today\",\"focus\",\"smelt\",\"tease\",\"cater\",\"movie\",\"saute\",\"allow\",\"renew\",\"their\",\"slosh\",\"purge\",\"chest\",\"depot\",\"epoxy\",\"nymph\",\"found\",\"shall\",\"harry\",\"stove\",\"lowly\",\"snout\",\"trope\",\"fewer\",\"shawl\",\"natal\",\"comma\",\"foray\",\"scare\",\"stair\",\"black\",\"squad\",\"royal\",\"chunk\",\"mince\",\"shame\",\"cheek\",\"ample\",\"flair\",\"foyer\",\"cargo\",\"oxide\",\"plant\",\"olive\",\"inert\",\"askew\",\"heist\",\"shown\",\"zesty\",\"hasty\",\"trash\",\"fella\",\"larva\",\"forgo\",\"story\",\"hairy\",\"train\",\"homer\",\"badge\",\"midst\",\"canny\",\"fetus\",\"butch\",\"farce\",\"slung\",\"tipsy\",\"metal\",\"yield\",\"delve\",\"being\",\"scour\",\"glass\",\"gamer\",\"scrap\",\"money\",\"hinge\",\"album\",\"vouch\",\"asset\",\"tiara\",\"crept\",\"bayou\",\"atoll\",\"manor\",\"creak\",\"showy\",\"phase\",\"froth\",\"depth\",\"gloom\",\"flood\",\"trait\",\"girth\",\"piety\",\"payer\",\"goose\",\"float\",\"donor\",\"atone\",\"primo\",\"apron\",\"blown\",\"cacao\",\"loser\",\"input\",\"gloat\",\"awful\",\"brink\",\"smite\",\"beady\",\"rusty\",\"retro\",\"droll\",\"gawky\",\"hutch\",\"pinto\",\"gaily\",\"egret\",\"lilac\",\"sever\",\"field\",\"fluff\",\"hydro\",\"flack\",\"agape\",\"voice\",\"stead\",\"stalk\",\"berth\",\"madam\",\"night\",\"bland\",\"liver\",\"wedge\",\"augur\",\"roomy\",\"wacky\",\"flock\",\"angry\",\"bobby\",\"trite\",\"aphid\",\"tryst\",\"midge\",\"power\",\"elope\",\"cinch\",\"motto\",\"stomp\",\"upset\",\"bluff\",\"cramp\",\"quart\",\"coyly\",\"youth\",\"rhyme\",\"buggy\",\"alien\",\"smear\",\"unfit\",\"patty\",\"cling\",\"glean\",\"label\",\"hunky\",\"khaki\",\"poker\",\"gruel\",\"twice\",\"twang\",\"shrug\",\"treat\",\"unlit\",\"waste\",\"merit\",\"woven\",\"octal\",\"needy\",\"clown\",\"widow\",\"irony\",\"ruder\",\"gauze\",\"chief\",\"onset\",\"prize\",\"fungi\",\"charm\",\"gully\",\"inter\",\"whoop\",\"taunt\",\"leery\",\"class\",\"theme\",\"lofty\",\"tibia\",\"booze\",\"alpha\",\"thyme\",\"eclat\",\"doubt\",\"parer\",\"chute\",\"stick\",\"trice\",\"alike\",\"sooth\",\"recap\",\"saint\",\"liege\",\"glory\",\"grate\",\"admit\",\"brisk\",\"soggy\",\"usurp\",\"scald\",\"scorn\",\"leave\",\"twine\",\"sting\",\"bough\",\"marsh\",\"sloth\",\"dandy\",\"vigor\",\"howdy\",\"enjoy\",\"valid\",\"ionic\",\"equal\",\"unset\",\"floor\",\"catch\",\"spade\",\"stein\",\"exist\",\"quirk\",\"denim\",\"grove\",\"spiel\",\"mummy\",\"fault\",\"foggy\",\"flout\",\"carry\",\"sneak\",\"libel\",\"waltz\",\"aptly\",\"piney\",\"inept\",\"aloud\",\"photo\",\"dream\",\"stale\",\"vomit\",\"ombre\",\"fanny\",\"unite\",\"snarl\",\"baker\",\"there\",\"glyph\",\"pooch\",\"hippy\",\"spell\",\"folly\",\"louse\",\"gulch\",\"vault\",\"godly\",\"threw\",\"fleet\",\"grave\",\"inane\",\"shock\",\"crave\",\"spite\",\"valve\",\"skimp\",\"claim\",\"rainy\",\"musty\",\"pique\",\"daddy\",\"quasi\",\"arise\",\"aging\",\"valet\",\"opium\",\"avert\",\"stuck\",\"recut\",\"mulch\",\"genre\",\"plume\",\"rifle\",\"count\",\"incur\",\"total\",\"wrest\",\"mocha\",\"deter\",\"study\",\"lover\",\"safer\",\"rivet\",\"funny\",\"smoke\",\"mound\",\"undue\",\"sedan\",\"pagan\",\"swine\",\"guile\",\"gusty\",\"equip\",\"tough\",\"canoe\",\"chaos\",\"covet\",\"human\",\"udder\",\"lunch\",\"blast\",\"stray\",\"manga\",\"melee\",\"lefty\",\"quick\",\"paste\",\"given\",\"octet\",\"risen\",\"groan\",\"leaky\",\"grind\",\"carve\",\"loose\",\"sadly\",\"spilt\",\"apple\",\"slack\",\"honey\",\"final\",\"sheen\",\"eerie\",\"minty\",\"slick\",\"derby\",\"wharf\",\"spelt\",\"coach\",\"erupt\",\"singe\",\"price\",\"spawn\",\"fairy\",\"jiffy\",\"filmy\",\"stack\",\"chose\",\"sleep\",\"ardor\",\"nanny\",\"niece\",\"woozy\",\"handy\",\"grace\",\"ditto\",\"stank\",\"cream\",\"usual\",\"diode\",\"valor\",\"angle\",\"ninja\",\"muddy\",\"chase\",\"reply\",\"prone\",\"spoil\",\"heart\",\"shade\",\"diner\",\"arson\",\"onion\",\"sleet\",\"dowel\",\"couch\",\"palsy\",\"bowel\",\"smile\",\"evoke\",\"creek\",\"lance\",\"eagle\",\"idiot\",\"siren\",\"built\",\"embed\",\"award\",\"dross\",\"annul\",\"goody\",\"frown\",\"patio\",\"laden\",\"humid\",\"elite\",\"lymph\",\"edify\",\"might\",\"reset\",\"visit\",\"gusto\",\"purse\",\"vapor\",\"crock\",\"write\",\"sunny\",\"loath\",\"chaff\",\"slide\",\"queer\",\"venom\",\"stamp\",\"sorry\",\"still\",\"acorn\",\"aping\",\"pushy\",\"tamer\",\"hater\",\"mania\",\"awoke\",\"brawn\",\"swift\",\"exile\",\"birch\",\"lucky\",\"freer\",\"risky\",\"ghost\",\"plier\",\"lunar\",\"winch\",\"snare\",\"nurse\",\"house\",\"borax\",\"nicer\",\"lurch\",\"exalt\",\"about\",\"savvy\",\"toxin\",\"tunic\",\"pried\",\"inlay\",\"chump\",\"lanky\",\"cress\",\"eater\",\"elude\",\"cycle\",\"kitty\",\"boule\",\"moron\",\"tenet\",\"place\",\"lobby\",\"plush\",\"vigil\",\"index\",\"blink\",\"clung\",\"qualm\",\"croup\",\"clink\",\"juicy\",\"stage\",\"decay\",\"nerve\",\"flier\",\"shaft\",\"crook\",\"clean\",\"china\",\"ridge\",\"vowel\",\"gnome\",\"snuck\",\"icing\",\"spiny\",\"rigor\",\"snail\",\"flown\",\"rabid\",\"prose\",\"thank\",\"poppy\",\"budge\",\"fiber\",\"moldy\",\"dowdy\",\"kneel\",\"track\",\"caddy\",\"quell\",\"dumpy\",\"paler\",\"swore\",\"rebar\",\"scuba\",\"splat\",\"flyer\",\"horny\",\"mason\",\"doing\",\"ozone\",\"amply\",\"molar\",\"ovary\",\"beset\",\"queue\",\"cliff\",\"magic\",\"truce\",\"sport\",\"fritz\",\"edict\",\"twirl\",\"verse\",\"llama\",\"eaten\",\"range\",\"whisk\",\"hovel\",\"rehab\",\"macaw\",\"sigma\",\"spout\",\"verve\",\"sushi\",\"dying\",\"fetid\",\"brain\",\"buddy\",\"thump\",\"scion\",\"candy\",\"chord\",\"basin\",\"march\",\"crowd\",\"arbor\",\"gayly\",\"musky\",\"stain\",\"dally\",\"bless\",\"bravo\",\"stung\",\"title\",\"ruler\",\"kiosk\",\"blond\",\"ennui\",\"layer\",\"fluid\",\"tatty\",\"score\",\"cutie\",\"zebra\",\"barge\",\"matey\",\"bluer\",\"aider\",\"shook\",\"river\",\"privy\",\"betel\",\"frisk\",\"bongo\",\"begun\",\"azure\",\"weave\",\"genie\",\"sound\",\"glove\",\"braid\",\"scope\",\"wryly\",\"rover\",\"assay\",\"ocean\",\"bloom\",\"irate\",\"later\",\"woken\",\"silky\",\"wreck\",\"dwelt\",\"slate\",\"smack\",\"solid\",\"amaze\",\"hazel\",\"wrist\",\"jolly\",\"globe\",\"flint\",\"rouse\",\"civil\",\"vista\",\"relax\",\"cover\",\"alive\",\"beech\",\"jetty\",\"bliss\",\"vocal\",\"often\",\"dolly\",\"eight\",\"joker\",\"since\",\"event\",\"ensue\",\"shunt\",\"diver\",\"poser\",\"worst\",\"sweep\",\"alley\",\"creed\",\"anime\",\"leafy\",\"bosom\",\"dunce\",\"stare\",\"pudgy\",\"waive\",\"choir\",\"stood\",\"spoke\",\"outgo\",\"delay\",\"bilge\",\"ideal\",\"clasp\",\"seize\",\"hotly\",\"laugh\",\"sieve\",\"block\",\"meant\",\"grape\",\"noose\",\"hardy\",\"shied\",\"drawl\",\"daisy\",\"putty\",\"strut\",\"burnt\",\"tulip\",\"crick\",\"idyll\",\"vixen\",\"furor\",\"geeky\",\"cough\",\"naive\",\"shoal\",\"stork\",\"bathe\",\"aunty\",\"check\",\"prime\",\"brass\",\"outer\",\"furry\",\"razor\",\"elect\",\"evict\",\"imply\",\"demur\",\"quota\",\"haven\",\"cavil\",\"swear\",\"crump\",\"dough\",\"gavel\",\"wagon\",\"salon\",\"nudge\",\"harem\",\"pitch\",\"sworn\",\"pupil\",\"excel\",\"stony\",\"cabin\",\"unzip\",\"queen\",\"trout\",\"polyp\",\"earth\",\"storm\",\"until\",\"taper\",\"enter\",\"child\",\"adopt\",\"minor\",\"fatty\",\"husky\",\"brave\",\"filet\",\"slime\",\"glint\",\"tread\",\"steal\",\"regal\",\"guest\",\"every\",\"murky\",\"share\",\"spore\",\"hoist\",\"buxom\",\"inner\",\"otter\",\"dimly\",\"level\",\"sumac\",\"donut\",\"stilt\",\"arena\",\"sheet\",\"scrub\",\"fancy\",\"slimy\",\"pearl\",\"silly\",\"porch\",\"dingo\",\"sepia\",\"amble\",\"shady\",\"bread\",\"friar\",\"reign\",\"dairy\",\"quill\",\"cross\",\"brood\",\"tuber\",\"shear\",\"posit\",\"blank\",\"villa\",\"shank\",\"piggy\",\"freak\",\"which\",\"among\",\"fecal\",\"shell\",\"would\",\"algae\",\"large\",\"rabbi\",\"agony\",\"amuse\",\"bushy\",\"copse\",\"swoon\",\"knife\",\"pouch\",\"ascot\",\"plane\",\"crown\",\"urban\",\"snide\",\"relay\",\"abide\",\"viola\",\"rajah\",\"straw\",\"dilly\",\"crash\",\"amass\",\"third\",\"trick\",\"tutor\",\"woody\",\"blurb\",\"grief\",\"disco\",\"where\",\"sassy\",\"beach\",\"sauna\",\"comic\",\"clued\",\"creep\",\"caste\",\"graze\",\"snuff\",\"frock\",\"gonad\",\"drunk\",\"prong\",\"lurid\",\"steel\",\"halve\",\"buyer\",\"vinyl\",\"utile\",\"smell\",\"adage\",\"worry\",\"tasty\",\"local\",\"trade\",\"finch\",\"ashen\",\"modal\",\"gaunt\",\"clove\",\"enact\",\"adorn\",\"roast\",\"speck\",\"sheik\",\"missy\",\"grunt\",\"snoop\",\"party\",\"touch\",\"mafia\",\"emcee\",\"array\",\"south\",\"vapid\",\"jelly\",\"skulk\",\"angst\",\"tubal\",\"lower\",\"crest\",\"sweat\",\"cyber\",\"adore\",\"tardy\",\"swami\",\"notch\",\"groom\",\"roach\",\"hitch\",\"young\",\"align\",\"ready\",\"frond\",\"strap\",\"puree\",\"realm\",\"venue\",\"swarm\",\"offer\",\"seven\",\"dryer\",\"diary\",\"dryly\",\"drank\",\"acrid\",\"heady\",\"theta\",\"junto\",\"pixie\",\"quoth\",\"bonus\",\"shalt\",\"penne\",\"amend\",\"datum\",\"build\",\"piano\",\"shelf\",\"lodge\",\"suing\",\"rearm\",\"coral\",\"ramen\",\"worth\",\"psalm\",\"infer\",\"overt\",\"mayor\",\"ovoid\",\"glide\",\"usage\",\"poise\",\"randy\",\"chuck\",\"prank\",\"fishy\",\"tooth\",\"ether\",\"drove\",\"idler\",\"swath\",\"stint\",\"while\",\"begat\",\"apply\",\"slang\",\"tarot\",\"radar\",\"credo\",\"aware\",\"canon\",\"shift\",\"timer\",\"bylaw\",\"serum\",\"three\",\"steak\",\"iliac\",\"shirk\",\"blunt\",\"puppy\",\"penal\",\"joist\",\"bunny\",\"shape\",\"beget\",\"wheel\",\"adept\",\"stunt\",\"stole\",\"topaz\",\"chore\",\"fluke\",\"afoot\",\"bloat\",\"bully\",\"dense\",\"caper\",\"sneer\",\"boxer\",\"jumbo\",\"lunge\",\"space\",\"avail\",\"short\",\"slurp\",\"loyal\",\"flirt\",\"pizza\",\"conch\",\"tempo\",\"droop\",\"plate\",\"bible\",\"plunk\",\"afoul\",\"savoy\",\"steep\",\"agile\",\"stake\",\"dwell\",\"knave\",\"beard\",\"arose\",\"motif\",\"smash\",\"broil\",\"glare\",\"shove\",\"baggy\",\"mammy\",\"swamp\",\"along\",\"rugby\",\"wager\",\"quack\",\"squat\",\"snaky\",\"debit\",\"mange\",\"skate\",\"ninth\",\"joust\",\"tramp\",\"spurn\",\"medal\",\"micro\",\"rebel\",\"flank\",\"learn\",\"nadir\",\"maple\",\"comfy\",\"remit\",\"gruff\",\"ester\",\"least\",\"mogul\",\"fetch\",\"cause\",\"oaken\",\"aglow\",\"meaty\",\"gaffe\",\"shyly\",\"racer\",\"prowl\",\"thief\",\"stern\",\"poesy\",\"rocky\",\"tweet\",\"waist\",\"spire\",\"grope\",\"havoc\",\"patsy\",\"truly\",\"forty\",\"deity\",\"uncle\",\"swish\",\"giver\",\"preen\",\"bevel\",\"lemur\",\"draft\",\"slope\",\"annoy\",\"lingo\",\"bleak\",\"ditty\",\"curly\",\"cedar\",\"dirge\",\"grown\",\"horde\",\"drool\",\"shuck\",\"crypt\",\"cumin\",\"stock\",\"gravy\",\"locus\",\"wider\",\"breed\",\"quite\",\"chafe\",\"cache\",\"blimp\",\"deign\",\"fiend\",\"logic\",\"cheap\",\"elide\",\"rigid\",\"false\",\"renal\",\"pence\",\"rowdy\",\"shoot\",\"blaze\",\"envoy\",\"posse\",\"brief\",\"never\",\"abort\",\"mouse\",\"mucky\",\"sulky\",\"fiery\",\"media\",\"trunk\",\"yeast\",\"clear\",\"skunk\",\"scalp\",\"bitty\",\"cider\",\"koala\",\"duvet\",\"segue\",\"creme\",\"super\",\"grill\",\"after\",\"owner\",\"ember\",\"reach\",\"nobly\",\"empty\",\"speed\",\"gipsy\",\"recur\",\"smock\",\"dread\",\"merge\",\"burst\",\"kappa\",\"amity\",\"shaky\",\"hover\",\"carol\",\"snort\",\"synod\",\"faint\",\"haunt\",\"flour\",\"chair\",\"detox\",\"shrew\",\"tense\",\"plied\",\"quark\",\"burly\",\"novel\",\"waxen\",\"stoic\",\"jerky\",\"blitz\",\"beefy\",\"lyric\",\"hussy\",\"towel\",\"quilt\",\"below\",\"bingo\",\"wispy\",\"brash\",\"scone\",\"toast\",\"easel\",\"saucy\",\"value\",\"spice\",\"honor\",\"route\",\"sharp\",\"bawdy\",\"radii\",\"skull\",\"phony\",\"issue\",\"lager\",\"swell\",\"urine\",\"gassy\",\"trial\",\"flora\",\"upper\",\"latch\",\"wight\",\"brick\",\"retry\",\"holly\",\"decal\",\"grass\",\"shack\",\"dogma\",\"mover\",\"defer\",\"sober\",\"optic\",\"crier\",\"vying\",\"nomad\",\"flute\",\"hippo\",\"shark\",\"drier\",\"obese\",\"bugle\",\"tawny\",\"chalk\",\"feast\",\"ruddy\",\"pedal\",\"scarf\",\"cruel\",\"bleat\",\"tidal\",\"slush\",\"semen\",\"windy\",\"dusty\",\"sally\",\"igloo\",\"nerdy\",\"jewel\",\"shone\",\"whale\",\"hymen\",\"abuse\",\"fugue\",\"elbow\",\"crumb\",\"pansy\",\"welsh\",\"syrup\",\"terse\",\"suave\",\"gamut\",\"swung\",\"drake\",\"freed\",\"afire\",\"shirt\",\"grout\",\"oddly\",\"tithe\",\"plaid\",\"dummy\",\"broom\",\"blind\",\"torch\",\"enemy\",\"again\",\"tying\",\"pesky\",\"alter\",\"gazer\",\"noble\",\"ethos\",\"bride\",\"extol\",\"decor\",\"hobby\",\"beast\",\"idiom\",\"utter\",\"these\",\"sixth\",\"alarm\",\"erase\",\"elegy\",\"spunk\",\"piper\",\"scaly\",\"scold\",\"hefty\",\"chick\",\"sooty\",\"canal\",\"whiny\",\"slash\",\"quake\",\"joint\",\"swept\",\"prude\",\"heavy\",\"wield\",\"femme\",\"lasso\",\"maize\",\"shale\",\"screw\",\"spree\",\"smoky\",\"whiff\",\"scent\",\"glade\",\"spent\",\"prism\",\"stoke\",\"riper\",\"orbit\",\"cocoa\",\"guilt\",\"humus\",\"shush\",\"table\",\"smirk\",\"wrong\",\"noisy\",\"alert\",\"shiny\",\"elate\",\"resin\",\"whole\",\"hunch\",\"pixel\",\"polar\",\"hotel\",\"sword\",\"cleat\",\"mango\",\"rumba\",\"puffy\",\"filly\",\"billy\",\"leash\",\"clout\",\"dance\",\"ovate\",\"facet\",\"chili\",\"paint\",\"liner\",\"curio\",\"salty\",\"audio\",\"snake\",\"fable\",\"cloak\",\"navel\",\"spurt\",\"pesto\",\"balmy\",\"flash\",\"unwed\",\"early\",\"churn\",\"weedy\",\"stump\",\"lease\",\"witty\",\"wimpy\",\"spoof\",\"saner\",\"blend\",\"salsa\",\"thick\",\"warty\",\"manic\",\"blare\",\"squib\",\"spoon\",\"probe\",\"crepe\",\"knack\",\"force\",\"debut\",\"order\",\"haste\",\"teeth\",\"agent\",\"widen\",\"icily\",\"slice\",\"ingot\",\"clash\",\"juror\",\"blood\",\"abode\",\"throw\",\"unity\",\"pivot\",\"slept\",\"troop\",\"spare\",\"sewer\",\"parse\",\"morph\",\"cacti\",\"tacky\",\"spool\",\"demon\",\"moody\",\"annex\",\"begin\",\"fuzzy\",\"patch\",\"water\",\"lumpy\",\"admin\",\"omega\",\"limit\",\"tabby\",\"macho\",\"aisle\",\"skiff\",\"basis\",\"plank\",\"verge\",\"botch\",\"crawl\",\"lousy\",\"slain\",\"cubic\",\"raise\",\"wrack\",\"guide\",\"foist\",\"cameo\",\"under\",\"actor\",\"revue\",\"fraud\",\"harpy\",\"scoop\",\"climb\",\"refer\",\"olden\",\"clerk\",\"debar\",\"tally\",\"ethic\",\"cairn\",\"tulle\",\"ghoul\",\"hilly\",\"crude\",\"apart\",\"scale\",\"older\",\"plain\",\"sperm\",\"briny\",\"abbot\",\"rerun\",\"quest\",\"crisp\",\"bound\",\"befit\",\"drawn\",\"suite\",\"itchy\",\"cheer\",\"bagel\",\"guess\",\"broad\",\"axiom\",\"chard\",\"caput\",\"leant\",\"harsh\",\"curse\",\"proud\",\"swing\",\"opine\",\"taste\",\"lupus\",\"gumbo\",\"miner\",\"green\",\"chasm\",\"lipid\",\"topic\",\"armor\",\"brush\",\"crane\",\"mural\",\"abled\",\"habit\",\"bossy\",\"maker\",\"dusky\",\"dizzy\",\"lithe\",\"brook\",\"jazzy\",\"fifty\",\"sense\",\"giant\",\"surly\",\"legal\",\"fatal\",\"flunk\",\"began\",\"prune\",\"small\",\"slant\",\"scoff\",\"torus\",\"ninny\",\"covey\",\"viper\",\"taken\",\"moral\",\"vogue\",\"owing\",\"token\",\"entry\",\"booth\",\"voter\",\"chide\",\"elfin\",\"ebony\",\"neigh\",\"minim\",\"melon\",\"kneed\",\"decoy\",\"voila\",\"ankle\",\"arrow\",\"mushy\",\"tribe\",\"cease\",\"eager\",\"birth\",\"graph\",\"odder\",\"terra\",\"weird\",\"tried\",\"clack\",\"color\",\"rough\",\"weigh\",\"uncut\",\"ladle\",\"strip\",\"craft\",\"minus\",\"dicey\",\"titan\",\"lucid\",\"vicar\",\"dress\",\"ditch\",\"gypsy\",\"pasta\",\"taffy\",\"flame\",\"swoop\",\"aloof\",\"sight\",\"broke\",\"teary\",\"chart\",\"sixty\",\"wordy\",\"sheer\",\"leper\",\"nosey\",\"bulge\",\"savor\",\"clamp\",\"funky\",\"foamy\",\"toxic\",\"brand\",\"plumb\",\"dingy\",\"butte\",\"drill\",\"tripe\",\"bicep\",\"tenor\",\"krill\",\"worse\",\"drama\",\"hyena\",\"think\",\"ratio\",\"cobra\",\"basil\",\"scrum\",\"bused\",\"phone\",\"court\",\"camel\",\"proof\",\"heard\",\"angel\",\"petal\",\"pouty\",\"throb\",\"maybe\",\"fetal\",\"sprig\",\"spine\",\"shout\",\"cadet\",\"macro\",\"dodgy\",\"satyr\",\"rarer\",\"binge\",\"trend\",\"nutty\",\"leapt\",\"amiss\",\"split\",\"myrrh\",\"width\",\"sonar\",\"tower\",\"baron\",\"fever\",\"waver\",\"spark\",\"belie\",\"sloop\",\"expel\",\"smote\",\"baler\",\"above\",\"north\",\"wafer\",\"scant\",\"frill\",\"awash\",\"snack\",\"scowl\",\"frail\",\"drift\",\"limbo\",\"fence\",\"motel\",\"ounce\",\"wreak\",\"revel\",\"talon\",\"prior\",\"knelt\",\"cello\",\"flake\",\"debug\",\"anode\",\"crime\",\"salve\",\"scout\",\"imbue\",\"pinky\",\"stave\",\"vague\",\"chock\",\"fight\",\"video\",\"stone\",\"teach\",\"cleft\",\"frost\",\"prawn\",\"booty\",\"twist\",\"apnea\",\"stiff\",\"plaza\",\"ledge\",\"tweak\",\"board\",\"grant\",\"medic\",\"bacon\",\"cable\",\"brawl\",\"slunk\",\"raspy\",\"forum\",\"drone\",\"women\",\"mucus\",\"boast\",\"toddy\",\"coven\",\"tumor\",\"truer\",\"wrath\",\"stall\",\"steam\",\"axial\",\"purer\",\"daily\",\"trail\",\"niche\",\"mealy\",\"juice\",\"nylon\",\"plump\",\"merry\",\"flail\",\"papal\",\"wheat\",\"berry\",\"cower\",\"erect\",\"brute\",\"leggy\",\"snipe\",\"sinew\",\"skier\",\"penny\",\"jumpy\",\"rally\",\"umbra\",\"scary\",\"modem\",\"gross\",\"avian\",\"greed\",\"satin\",\"tonic\",\"parka\",\"sniff\",\"livid\",\"stark\",\"trump\",\"giddy\",\"reuse\",\"taboo\",\"avoid\",\"quote\",\"devil\",\"liken\",\"gloss\",\"gayer\",\"beret\",\"noise\",\"gland\",\"dealt\",\"sling\",\"rumor\",\"opera\",\"thigh\",\"tonga\",\"flare\",\"wound\",\"white\",\"bulky\",\"etude\",\"horse\",\"circa\",\"paddy\",\"inbox\",\"fizzy\",\"grain\",\"exert\",\"surge\",\"gleam\",\"belle\",\"salvo\",\"crush\",\"fruit\",\"sappy\",\"taker\",\"tract\",\"ovine\",\"spiky\",\"frank\",\"reedy\",\"filth\",\"spasm\",\"heave\",\"mambo\",\"right\",\"clank\",\"trust\",\"lumen\",\"borne\",\"spook\",\"sauce\",\"amber\",\"lathe\",\"carat\",\"corer\",\"dirty\",\"slyly\",\"affix\",\"alloy\",\"taint\",\"sheep\",\"kinky\",\"wooly\",\"mauve\",\"flung\",\"yacht\",\"fried\",\"quail\",\"brunt\",\"grimy\",\"curvy\",\"cagey\",\"rinse\",\"deuce\",\"state\",\"grasp\",\"milky\",\"bison\",\"graft\",\"sandy\",\"baste\",\"flask\",\"hedge\",\"girly\",\"swash\",\"boney\",\"coupe\",\"endow\",\"abhor\",\"welch\",\"blade\",\"tight\",\"geese\",\"miser\",\"mirth\",\"cloud\",\"cabal\",\"leech\",\"close\",\"tenth\",\"pecan\",\"droit\",\"grail\",\"clone\",\"guise\",\"ralph\",\"tango\",\"biddy\",\"smith\",\"mower\",\"payee\",\"serif\",\"drape\",\"fifth\",\"spank\",\"glaze\",\"allot\",\"truck\",\"kayak\",\"virus\",\"testy\",\"tepee\",\"fully\",\"zonal\",\"metro\",\"curry\",\"grand\",\"banjo\",\"axion\",\"bezel\",\"occur\",\"chain\",\"nasal\",\"gooey\",\"filer\",\"brace\",\"allay\",\"pubic\",\"raven\",\"plead\",\"gnash\",\"flaky\",\"munch\",\"dully\",\"eking\",\"thing\",\"slink\",\"hurry\",\"theft\",\"shorn\",\"pygmy\",\"ranch\",\"wring\",\"lemon\",\"shore\",\"mamma\",\"froze\",\"newer\",\"style\",\"moose\",\"antic\",\"drown\",\"vegan\",\"chess\",\"guppy\",\"union\",\"lever\",\"lorry\",\"image\",\"cabby\",\"druid\",\"exact\",\"truth\",\"dopey\",\"spear\",\"cried\",\"chime\",\"crony\",\"stunk\",\"timid\",\"batch\",\"gauge\",\"rotor\",\"crack\",\"curve\",\"latte\",\"witch\",\"bunch\",\"repel\",\"anvil\",\"soapy\",\"meter\",\"broth\",\"madly\",\"dried\",\"scene\",\"known\",\"magma\",\"roost\",\"woman\",\"thong\",\"punch\",\"pasty\",\"downy\",\"knead\",\"whirl\",\"rapid\",\"clang\",\"anger\",\"drive\",\"goofy\",\"email\",\"music\",\"stuff\",\"bleep\",\"rider\",\"mecca\",\"folio\",\"setup\",\"verso\",\"quash\",\"fauna\",\"gummy\",\"happy\",\"newly\",\"fussy\",\"relic\",\"guava\",\"ratty\",\"fudge\",\"femur\",\"chirp\",\"forte\",\"alibi\",\"whine\",\"petty\",\"golly\",\"plait\",\"fleck\",\"felon\",\"gourd\",\"brown\",\"thrum\",\"ficus\",\"stash\",\"decry\",\"wiser\",\"junta\",\"visor\",\"daunt\",\"scree\",\"impel\",\"await\",\"press\",\"whose\",\"turbo\",\"stoop\",\"speak\",\"mangy\",\"eying\",\"inlet\",\"crone\",\"pulse\",\"mossy\",\"staid\",\"hence\",\"pinch\",\"teddy\",\"sully\",\"snore\",\"ripen\",\"snowy\",\"attic\",\"going\",\"leach\",\"mouth\",\"hound\",\"clump\",\"tonal\",\"bigot\",\"peril\",\"piece\",\"blame\",\"haute\",\"spied\",\"undid\",\"intro\",\"basal\",\"shine\",\"gecko\",\"rodeo\",\"guard\",\"steer\",\"loamy\",\"scamp\",\"scram\",\"manly\",\"hello\",\"vaunt\",\"organ\",\"feral\",\"knock\",\"extra\",\"condo\",\"adapt\",\"willy\",\"polka\",\"rayon\",\"skirt\",\"faith\",\"torso\",\"match\",\"mercy\",\"tepid\",\"sleek\",\"riser\",\"twixt\",\"peace\",\"flush\",\"catty\",\"login\",\"eject\",\"roger\",\"rival\",\"untie\",\"refit\",\"aorta\",\"adult\",\"judge\",\"rower\",\"artsy\",\"rural\",\"shave\"]"
   ]
  },
  {
   "cell_type": "code",
   "execution_count": 3,
   "metadata": {
    "execution": {
     "iopub.execute_input": "2022-01-29T06:09:27.835862Z",
     "iopub.status.busy": "2022-01-29T06:09:27.835070Z",
     "iopub.status.idle": "2022-01-29T06:09:27.871738Z",
     "shell.execute_reply": "2022-01-29T06:09:27.871106Z",
     "shell.execute_reply.started": "2022-01-29T06:09:27.835825Z"
    }
   },
   "outputs": [],
   "source": [
    "answers = pd.Series(answers_list).sort_values(ignore_index=True)"
   ]
  },
  {
   "cell_type": "markdown",
   "metadata": {},
   "source": [
    "## Wordle's clues algorithm"
   ]
  },
  {
   "cell_type": "code",
   "execution_count": 4,
   "metadata": {
    "execution": {
     "iopub.execute_input": "2022-01-29T06:48:05.009803Z",
     "iopub.status.busy": "2022-01-29T06:48:05.008722Z",
     "iopub.status.idle": "2022-01-29T06:48:05.018904Z",
     "shell.execute_reply": "2022-01-29T06:48:05.017932Z",
     "shell.execute_reply.started": "2022-01-29T06:48:05.009761Z"
    }
   },
   "outputs": [],
   "source": [
    "def match(guess, answer):\n",
    "    result = ['F'] * 5\n",
    "    chars = list(answer)\n",
    "    \n",
    "    # Mark correct letter and position as T\n",
    "    for i in range(5):\n",
    "        if guess[i] == answer[i]:\n",
    "            result[i] = 'T'\n",
    "            chars[i] = '_'\n",
    "    \n",
    "    # Mark correct letter, wrong position as P\n",
    "    for i in range(5):\n",
    "        for j in range(5):\n",
    "            if guess[i] == chars[j] and result[i] == 'F':\n",
    "                result[i] = 'P'\n",
    "                chars[j] = '_'\n",
    "    \n",
    "    # All other positions are marked as F by default\n",
    "    \n",
    "    return ''.join(result)"
   ]
  },
  {
   "cell_type": "markdown",
   "metadata": {},
   "source": [
    "## Building DataFrame"
   ]
  },
  {
   "cell_type": "code",
   "execution_count": 5,
   "metadata": {
    "execution": {
     "iopub.execute_input": "2022-01-29T06:57:18.397399Z",
     "iopub.status.busy": "2022-01-29T06:57:18.397063Z",
     "iopub.status.idle": "2022-01-29T06:57:18.403101Z",
     "shell.execute_reply": "2022-01-29T06:57:18.402110Z",
     "shell.execute_reply.started": "2022-01-29T06:57:18.397367Z"
    }
   },
   "outputs": [],
   "source": [
    "# Add column with possible answers\n",
    "df = answers.to_frame(name=\"answer\")"
   ]
  },
  {
   "cell_type": "code",
   "execution_count": 6,
   "metadata": {
    "execution": {
     "iopub.execute_input": "2022-01-29T06:57:31.502994Z",
     "iopub.status.busy": "2022-01-29T06:57:31.502232Z",
     "iopub.status.idle": "2022-01-29T06:58:17.037743Z",
     "shell.execute_reply": "2022-01-29T06:58:17.036815Z",
     "shell.execute_reply.started": "2022-01-29T06:57:31.502951Z"
    }
   },
   "outputs": [],
   "source": [
    "# Suppress PerformanceWarning\n",
    "simplefilter(action=\"ignore\", category=pd.errors.PerformanceWarning)\n",
    "\n",
    "# Add columns for answers\n",
    "for index, value in answers.items():\n",
    "    df[value] = df[\"answer\"].map(lambda v: match(value, v))"
   ]
  },
  {
   "cell_type": "markdown",
   "metadata": {},
   "source": [
    "## Preprocessing"
   ]
  },
  {
   "cell_type": "code",
   "execution_count": null,
   "metadata": {
    "execution": {
     "iopub.execute_input": "2022-01-29T07:22:23.601177Z",
     "iopub.status.busy": "2022-01-29T07:22:23.600416Z",
     "iopub.status.idle": "2022-01-29T07:22:23.957968Z",
     "shell.execute_reply": "2022-01-29T07:22:23.956891Z",
     "shell.execute_reply.started": "2022-01-29T07:22:23.601128Z"
    }
   },
   "outputs": [],
   "source": [
    "X = df.drop(columns=\"answer\")\n",
    "y = df[\"answer\"]"
   ]
  },
  {
   "cell_type": "code",
   "execution_count": null,
   "metadata": {},
   "outputs": [],
   "source": [
    "le = LabelEncoder()\n",
    "le.fit(X.stack().unique())"
   ]
  },
  {
   "cell_type": "code",
   "execution_count": null,
   "metadata": {},
   "outputs": [],
   "source": [
    "X = X.apply(le.transform)"
   ]
  },
  {
   "cell_type": "markdown",
   "metadata": {},
   "source": [
    "## Tree induction"
   ]
  },
  {
   "cell_type": "code",
   "execution_count": null,
   "metadata": {
    "execution": {
     "iopub.execute_input": "2022-01-29T07:54:28.336673Z",
     "iopub.status.busy": "2022-01-29T07:54:28.336288Z",
     "iopub.status.idle": "2022-01-29T07:54:28.361096Z",
     "shell.execute_reply": "2022-01-29T07:54:28.360268Z",
     "shell.execute_reply.started": "2022-01-29T07:54:28.336636Z"
    }
   },
   "outputs": [],
   "source": [
    "class WordleDecisionTree:\n",
    "    def fit(self, input, output, labels):\n",
    "        data = input.copy()\n",
    "        data[output.name] = output\n",
    "        self.labels = labels\n",
    "        self.tree = self.decision_tree(data, data, input.columns, output.name)\n",
    "\n",
    "    def decision_tree(self, data, orginal_data, feature_attribute_names, target_attribute_name):\n",
    "        unique_classes = np.unique(data[target_attribute_name])\n",
    "        if len(unique_classes) <= 1:\n",
    "            return unique_classes[0]\n",
    "        else:\n",
    "            # determine best feature using mutual information\n",
    "            stats = dict(zip(feature_attribute_names, mutual_info_classif(\n",
    "                data[feature_attribute_names], \n",
    "                data[target_attribute_name], \n",
    "                discrete_features=True)\n",
    "            ))\n",
    "            best_feature = max(stats, key=lambda key: stats[key])\n",
    "            \n",
    "            # create tree structure, empty at first\n",
    "            tree = {best_feature: {}}\n",
    "\n",
    "            # remove best feature from available features, it will become the parent node\n",
    "            feature_attribute_names = [i for i in feature_attribute_names if i != best_feature]\n",
    "\n",
    "            # create nodes under parent node\n",
    "            parent_attribute_values = np.unique(data[best_feature])\n",
    "            for value in parent_attribute_values:\n",
    "                sub_data = data.where(data[best_feature] == value).dropna()\n",
    "                \n",
    "                remaining_features = np.unique(sub_data[target_attribute_name])\n",
    "                if len(remaining_features) <= 2:\n",
    "                    subtree = self.decision_tree(sub_data, orginal_data, remaining_features, target_attribute_name)\n",
    "                else:\n",
    "                    subtree = self.decision_tree(sub_data, orginal_data, feature_attribute_names, target_attribute_name)\n",
    "                \n",
    "                # add subtree to original tree\n",
    "                if self.labels[int(value)] != \"TTTTT\":\n",
    "                    tree[best_feature][self.labels[int(value)]] = subtree\n",
    "            \n",
    "            return tree"
   ]
  },
  {
   "cell_type": "code",
   "execution_count": null,
   "metadata": {
    "execution": {
     "iopub.execute_input": "2022-01-29T07:55:06.276568Z",
     "iopub.status.busy": "2022-01-29T07:55:06.276232Z",
     "iopub.status.idle": "2022-01-29T08:03:16.463718Z",
     "shell.execute_reply": "2022-01-29T08:03:16.462161Z",
     "shell.execute_reply.started": "2022-01-29T07:55:06.276533Z"
    }
   },
   "outputs": [],
   "source": [
    "model = WordleDecisionTree()\n",
    "model.fit(X, y, le.classes_)"
   ]
  },
  {
   "cell_type": "markdown",
   "metadata": {},
   "source": [
    "## Saving the decision tree"
   ]
  },
  {
   "cell_type": "code",
   "execution_count": null,
   "metadata": {},
   "outputs": [],
   "source": [
    "with open('wordle.json', 'w') as fp:\n",
    "    json.dump(model.tree, fp)"
   ]
  },
  {
   "cell_type": "markdown",
   "metadata": {},
   "source": [
    "## Loading the decision tree"
   ]
  },
  {
   "cell_type": "code",
   "execution_count": 2,
   "metadata": {},
   "outputs": [],
   "source": [
    "with open('wordle.json', 'r') as fp:\n",
    "    tree = json.load(fp)"
   ]
  },
  {
   "cell_type": "markdown",
   "metadata": {},
   "source": [
    "## Creating the user interface"
   ]
  },
  {
   "cell_type": "code",
   "execution_count": 6,
   "metadata": {},
   "outputs": [],
   "source": [
    "traverse_tree = tree\n",
    "active_row = 0"
   ]
  },
  {
   "cell_type": "code",
   "execution_count": 7,
   "metadata": {},
   "outputs": [],
   "source": [
    "def on_btn_click(b, row, col):\n",
    "    global traverse_tree\n",
    "    global active_row\n",
    "    \n",
    "    for r in range(6):\n",
    "        enable_row(r, r==row)\n",
    "    \n",
    "    if active_row < row:\n",
    "        traverse_tree = traverse_tree[get_word(row - 1)][get_pattern(row - 1)]\n",
    "        active_row = row\n",
    "    \n",
    "    if b.style.button_color == '#FFFFFF':\n",
    "        b.style.button_color = '#C9B458'\n",
    "    elif b.style.button_color == '#C9B458':\n",
    "        b.style.button_color = '#787C7E'\n",
    "    elif b.style.button_color == '#787C7E':\n",
    "        b.style.button_color = '#6AAA64'\n",
    "    elif b.style.button_color == '#6AAA64':\n",
    "        b.style.button_color = '#C9B458'\n",
    "    \n",
    "    if row < 6:\n",
    "        pattern = get_pattern(row)\n",
    "        if pattern:\n",
    "            set_word(row + 1, get_next_word(row).upper())\n",
    "        else:\n",
    "            set_word(row + 1, \"     \")\n",
    "    \n",
    "        enable_row(row + 1, get_word(row + 1).strip())"
   ]
  },
  {
   "cell_type": "code",
   "execution_count": 8,
   "metadata": {},
   "outputs": [],
   "source": [
    "def get_next_word(row):\n",
    "    try:\n",
    "        if isinstance(traverse_tree[get_word(row)][get_pattern(row)],str):\n",
    "            return traverse_tree[get_word(row)][get_pattern(row)]\n",
    "        return next(iter(traverse_tree[get_word(row)][get_pattern(row)]))\n",
    "    except:\n",
    "        return \"     \"\n",
    "    return \"     \""
   ]
  },
  {
   "cell_type": "code",
   "execution_count": 9,
   "metadata": {},
   "outputs": [],
   "source": [
    "def create_on_btn_click_fun(row, col):\n",
    "    def _on_btn_click(b):\n",
    "        on_btn_click(b, row, col)\n",
    "    return _on_btn_click"
   ]
  },
  {
   "cell_type": "code",
   "execution_count": 10,
   "metadata": {},
   "outputs": [],
   "source": [
    "def set_word(row, word):\n",
    "    for c in range(5):\n",
    "        vbox.children[row].children[c].description = word[c]"
   ]
  },
  {
   "cell_type": "code",
   "execution_count": 11,
   "metadata": {},
   "outputs": [],
   "source": [
    "def enable_row(row,b):\n",
    "    for c in range(5):\n",
    "        vbox.children[row].children[c].disabled = not b"
   ]
  },
  {
   "cell_type": "code",
   "execution_count": 12,
   "metadata": {},
   "outputs": [],
   "source": [
    "def get_pattern(row):\n",
    "    pattern = []\n",
    "    for c in range(5):\n",
    "        if vbox.children[row].children[c].style.button_color == '#FFFFFF':\n",
    "            return None\n",
    "        elif vbox.children[row].children[c].style.button_color == '#C9B458':\n",
    "            pattern.append('P')\n",
    "        elif vbox.children[row].children[c].style.button_color == '#787C7E':\n",
    "            pattern.append('F')\n",
    "        elif vbox.children[row].children[c].style.button_color == '#6AAA64':\n",
    "            pattern.append('T')\n",
    "    return ''.join(pattern)"
   ]
  },
  {
   "cell_type": "code",
   "execution_count": 13,
   "metadata": {},
   "outputs": [],
   "source": [
    "def get_word(row):\n",
    "    letters = []\n",
    "    for c in range(5):\n",
    "        letters.append(vbox.children[row].children[c].description)\n",
    "    return ''.join(letters).lower()"
   ]
  },
  {
   "cell_type": "code",
   "execution_count": null,
   "metadata": {},
   "outputs": [],
   "source": [
    "def on_reset_button_click(b):\n",
    "    global traverse_tree\n",
    "    global active_row\n",
    "    for r in range(6):\n",
    "        enable_row(r, r==0)\n",
    "        for c in range(5):\n",
    "            b = vbox.children[r].children[c]\n",
    "            b.style.button_color = '#FFFFFF'\n",
    "            b.description = ' '\n",
    "    traverse_tree = tree\n",
    "    active_row = 0\n",
    "    set_word(0, next(iter(traverse_tree)).upper())"
   ]
  },
  {
   "cell_type": "code",
   "execution_count": null,
   "metadata": {},
   "outputs": [],
   "source": [
    "vbox_items = []\n",
    "for r in range(6):\n",
    "    hbox_items = []\n",
    "    for c in range(5):\n",
    "        button = widgets.Button(description=' ', style=dict(button_color='#FFFFFF', font_weight='bold'), layout=widgets.Layout(width='32px', height='32px', border='solid 1px'))\n",
    "        button.on_click(create_on_btn_click_fun(r,c))\n",
    "        hbox_items.append(button)\n",
    "    vbox_items.append(widgets.HBox(hbox_items))\n",
    "\n",
    "vbox = widgets.VBox(vbox_items)\n",
    "reset_button = widgets.Button(description=\"Reset\")\n",
    "reset_button.on_click(on_reset_button_click)\n",
    "display(vbox, reset_button)\n",
    "on_reset_button_click(reset_button)"
   ]
  },
  {
   "cell_type": "markdown",
   "metadata": {},
   "source": [
    "Enter the suggested word into Wordle. Click the letters to change the colors and get the next guess. "
   ]
  },
  {
   "cell_type": "code",
   "execution_count": null,
   "metadata": {},
   "outputs": [],
   "source": []
  }
 ],
 "metadata": {
  "kernelspec": {
   "display_name": "Python 3 (ipykernel)",
   "language": "python",
   "name": "python3"
  },
  "language_info": {
   "codemirror_mode": {
    "name": "ipython",
    "version": 3
   },
   "file_extension": ".py",
   "mimetype": "text/x-python",
   "name": "python",
   "nbconvert_exporter": "python",
   "pygments_lexer": "ipython3",
   "version": "3.9.16"
  }
 },
 "nbformat": 4,
 "nbformat_minor": 4
}
