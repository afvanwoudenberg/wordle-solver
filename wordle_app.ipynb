{
 "cells": [
  {
   "cell_type": "markdown",
   "metadata": {},
   "source": [
    "# Wordle solver\n",
    "\n",
    "Aswin van Woudenberg (https://www.aswinvanwoudenberg.com | https://github.com/afvanwoudenberg)"
   ]
  },
  {
   "cell_type": "code",
   "execution_count": 13,
   "metadata": {
    "_cell_guid": "b1076dfc-b9ad-4769-8c92-a6c4dae69d19",
    "_uuid": "8f2839f25d086af736a60e9eeb907d3b93b6e0e5",
    "execution": {
     "iopub.execute_input": "2022-01-29T06:52:52.860218Z",
     "iopub.status.busy": "2022-01-29T06:52:52.859877Z",
     "iopub.status.idle": "2022-01-29T06:52:52.865286Z",
     "shell.execute_reply": "2022-01-29T06:52:52.864395Z",
     "shell.execute_reply.started": "2022-01-29T06:52:52.860183Z"
    }
   },
   "outputs": [],
   "source": [
    "import json\n",
    "\n",
    "import numpy as np\n",
    "import pandas as pd\n",
    "import ipywidgets as widgets\n",
    "\n",
    "from sklearn.preprocessing import LabelEncoder\n",
    "from sklearn.feature_selection import mutual_info_classif\n",
    "from warnings import simplefilter\n",
    "from collections import deque"
   ]
  },
  {
   "cell_type": "code",
   "execution_count": 14,
   "metadata": {},
   "outputs": [],
   "source": [
    "with open('wordle.json', 'r') as fp:\n",
    "    tree = json.load(fp)"
   ]
  },
  {
   "cell_type": "code",
   "execution_count": 15,
   "metadata": {},
   "outputs": [],
   "source": [
    "traverse_tree = tree\n",
    "active_row = 0"
   ]
  },
  {
   "cell_type": "code",
   "execution_count": 16,
   "metadata": {},
   "outputs": [],
   "source": [
    "def on_btn_click(b, row, col):\n",
    "    global traverse_tree\n",
    "    global active_row\n",
    "    \n",
    "    for r in range(6):\n",
    "        enable_row(r, r==row)\n",
    "    \n",
    "    if active_row < row:\n",
    "        traverse_tree = traverse_tree[get_word(row - 1)][get_pattern(row - 1)]\n",
    "        active_row = row\n",
    "    \n",
    "    if b.style.button_color == '#FFFFFF':\n",
    "        b.style.button_color = '#C9B458'\n",
    "    elif b.style.button_color == '#C9B458':\n",
    "        b.style.button_color = '#787C7E'\n",
    "    elif b.style.button_color == '#787C7E':\n",
    "        b.style.button_color = '#6AAA64'\n",
    "    elif b.style.button_color == '#6AAA64':\n",
    "        b.style.button_color = '#C9B458'\n",
    "    \n",
    "    if row < 6:\n",
    "        pattern = get_pattern(row)\n",
    "        if pattern:\n",
    "            set_word(row + 1, get_next_word(row).upper())\n",
    "        else:\n",
    "            set_word(row + 1, \"     \")\n",
    "    \n",
    "        enable_row(row + 1, get_word(row + 1).strip())"
   ]
  },
  {
   "cell_type": "code",
   "execution_count": 17,
   "metadata": {},
   "outputs": [],
   "source": [
    "def get_next_word(row):\n",
    "    try:\n",
    "        if isinstance(traverse_tree[get_word(row)][get_pattern(row)],str):\n",
    "            return traverse_tree[get_word(row)][get_pattern(row)]\n",
    "        return next(iter(traverse_tree[get_word(row)][get_pattern(row)]))\n",
    "    except:\n",
    "        return \"     \"\n",
    "    return \"     \""
   ]
  },
  {
   "cell_type": "code",
   "execution_count": 18,
   "metadata": {},
   "outputs": [],
   "source": [
    "def create_on_btn_click_fun(row, col):\n",
    "    def _on_btn_click(b):\n",
    "        on_btn_click(b, row, col)\n",
    "    return _on_btn_click"
   ]
  },
  {
   "cell_type": "code",
   "execution_count": 19,
   "metadata": {},
   "outputs": [],
   "source": [
    "def set_word(row, word):\n",
    "    for c in range(5):\n",
    "        vbox.children[row].children[c].description = word[c]"
   ]
  },
  {
   "cell_type": "code",
   "execution_count": 20,
   "metadata": {},
   "outputs": [],
   "source": [
    "def enable_row(row,b):\n",
    "    for c in range(5):\n",
    "        vbox.children[row].children[c].disabled = not b"
   ]
  },
  {
   "cell_type": "code",
   "execution_count": 21,
   "metadata": {},
   "outputs": [],
   "source": [
    "def get_pattern(row):\n",
    "    pattern = []\n",
    "    for c in range(5):\n",
    "        if vbox.children[row].children[c].style.button_color == '#FFFFFF':\n",
    "            return None\n",
    "        elif vbox.children[row].children[c].style.button_color == '#C9B458':\n",
    "            pattern.append('P')\n",
    "        elif vbox.children[row].children[c].style.button_color == '#787C7E':\n",
    "            pattern.append('F')\n",
    "        elif vbox.children[row].children[c].style.button_color == '#6AAA64':\n",
    "            pattern.append('T')\n",
    "    return ''.join(pattern)"
   ]
  },
  {
   "cell_type": "code",
   "execution_count": 22,
   "metadata": {},
   "outputs": [],
   "source": [
    "def get_word(row):\n",
    "    letters = []\n",
    "    for c in range(5):\n",
    "        letters.append(vbox.children[row].children[c].description)\n",
    "    return ''.join(letters).lower()"
   ]
  },
  {
   "cell_type": "code",
   "execution_count": 23,
   "metadata": {},
   "outputs": [],
   "source": [
    "def on_reset_button_click(b):\n",
    "    global traverse_tree\n",
    "    global active_row\n",
    "    for r in range(6):\n",
    "        enable_row(r, r==0)\n",
    "        for c in range(5):\n",
    "            b = vbox.children[r].children[c]\n",
    "            b.style.button_color = '#FFFFFF'\n",
    "            b.description = ' '\n",
    "    traverse_tree = tree\n",
    "    active_row = 0\n",
    "    set_word(0, next(iter(traverse_tree)).upper())"
   ]
  },
  {
   "cell_type": "code",
   "execution_count": 24,
   "metadata": {},
   "outputs": [
    {
     "data": {
      "application/vnd.jupyter.widget-view+json": {
       "model_id": "1cb6b8e1eb0d4fc786ddd4fe65fb201b",
       "version_major": 2,
       "version_minor": 0
      },
      "text/plain": [
       "VBox(children=(HBox(children=(Button(description=' ', layout=Layout(border_bottom='solid 1px', border_left='so…"
      ]
     },
     "metadata": {},
     "output_type": "display_data"
    },
    {
     "data": {
      "application/vnd.jupyter.widget-view+json": {
       "model_id": "ad112c6c5513443a8fe3da3180852d90",
       "version_major": 2,
       "version_minor": 0
      },
      "text/plain": [
       "Button(description='Reset', style=ButtonStyle())"
      ]
     },
     "metadata": {},
     "output_type": "display_data"
    }
   ],
   "source": [
    "vbox_items = []\n",
    "for r in range(6):\n",
    "    hbox_items = []\n",
    "    for c in range(5):\n",
    "        button = widgets.Button(description=' ', style=dict(button_color='#FFFFFF', font_weight='bold'), layout=widgets.Layout(width='32px', height='32px', border='solid 1px'))\n",
    "        button.on_click(create_on_btn_click_fun(r,c))\n",
    "        hbox_items.append(button)\n",
    "    vbox_items.append(widgets.HBox(hbox_items))\n",
    "\n",
    "vbox = widgets.VBox(vbox_items)\n",
    "reset_button = widgets.Button(description=\"Reset\")\n",
    "reset_button.on_click(on_reset_button_click)\n",
    "display(vbox, reset_button)\n",
    "on_reset_button_click(reset_button)"
   ]
  },
  {
   "cell_type": "markdown",
   "metadata": {},
   "source": [
    "Enter the suggested word into Wordle. Click the letters to change the colors and get the next guess. "
   ]
  }
 ],
 "metadata": {
  "kernelspec": {
   "display_name": "Python 3 (ipykernel)",
   "language": "python",
   "name": "python3"
  },
  "language_info": {
   "codemirror_mode": {
    "name": "ipython",
    "version": 3
   },
   "file_extension": ".py",
   "mimetype": "text/x-python",
   "name": "python",
   "nbconvert_exporter": "python",
   "pygments_lexer": "ipython3",
   "version": "3.9.16"
  }
 },
 "nbformat": 4,
 "nbformat_minor": 4
}
